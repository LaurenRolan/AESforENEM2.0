{
 "cells": [
  {
   "cell_type": "code",
   "execution_count": 2,
   "metadata": {},
   "outputs": [],
   "source": [
    "from selenium import webdriver\n",
    "from selenium.webdriver.common.by import By\n",
    "from selenium.webdriver.support import expected_conditions as EC\n",
    "from bs4 import BeautifulSoup\n",
    "import pandas as pd\n",
    "from time import sleep\n",
    "\n",
    "driver = webdriver.Chrome()\n",
    "driver.get('https://vestibular.brasilescola.uol.com.br/banco-de-redacoes')\n",
    "\n",
    "# Get the essay theme table\n",
    "theme_table = driver.find_element(By.ID, 'table-temas')"
   ]
  },
  {
   "cell_type": "code",
   "execution_count": 3,
   "metadata": {},
   "outputs": [],
   "source": [
    "table_rows = theme_table.find_elements(By.TAG_NAME, 'tr')[1:]\n",
    "\n",
    "themes = []\n",
    "for row in table_rows:\n",
    "    a_element = row.find_elements(By.TAG_NAME, 'td')[0].find_element(By.TAG_NAME, 'a')\n",
    "    link = a_element.get_property('href')\n",
    "    theme = a_element.text\n",
    "    date = row.find_elements(By.TAG_NAME, 'td')[1].text\n",
    "    month = date.split('/')[0]\n",
    "    year = date.split('/')[1]\n",
    "    themes.append([theme, link, month, year])\n",
    "\n",
    "df = pd.DataFrame(themes, columns=['Theme', 'Link', 'Month', 'Year'])\n",
    "df.to_csv('data/links.csv', index=False)"
   ]
  },
  {
   "cell_type": "code",
   "execution_count": 8,
   "metadata": {},
   "outputs": [],
   "source": [
    "import hashlib\n",
    "from pathlib import Path\n",
    "\n",
    "output_dir = Path('data/themes')\n",
    "\n",
    "output_dir.mkdir(parents=True, exist_ok=True)\n",
    "\n",
    "links = [df['Link'][0]]\n",
    "for link in links:\n",
    "    driver.get(link)\n",
    "    theme_paragraph = driver.find_element(By.CLASS_NAME, 'texto-conteudo').find_element(By.TAG_NAME, 'p').text\n",
    "    table_corrected = driver.find_element(By.ID, 'redacoes_corrigidas')\n",
    "    essays_corrected = table_corrected.find_elements(By.TAG_NAME, 'tr')[1:]\n",
    "    essays_links = []\n",
    "    for essay, n in zip(essays_corrected, range(len(essays_corrected))):\n",
    "        a_element = essay.find_elements(By.TAG_NAME, 'td')[0].find_element(By.TAG_NAME, 'a')\n",
    "        link = a_element.get_property('href')\n",
    "        number = n\n",
    "        essays_links.append([theme_paragraph, n, link])\n",
    "    theme_hash = hashlib.sha256(link.encode()).hexdigest()\n",
    "    df_theme = pd.DataFrame(essays_links, columns=['Proposition', 'Id', 'Link'])\n",
    "    df_theme.to_csv(f'{output_dir}/{theme_hash}.csv', index=False)"
   ]
  },
  {
   "cell_type": "code",
   "execution_count": 9,
   "metadata": {},
   "outputs": [],
   "source": [
    "link = df_theme['Link'][0]\n",
    "driver.get(link)\n",
    "essay_raw = driver.find_element(By.CLASS_NAME, 'area-redacao-corrigida').find_element(By.TAG_NAME, 'p')\n"
   ]
  },
  {
   "cell_type": "code",
   "execution_count": 23,
   "metadata": {},
   "outputs": [],
   "source": [
    "import re\n",
    "\n",
    "def remove_comments(all_red: list):\n",
    "    clean = []\n",
    "    for item in all_red:\n",
    "        new_item = re.sub(\"\\(.*\\)\", \"\", item.text).strip()\n",
    "        if new_item:\n",
    "            clean.append(new_item)\n",
    "    return clean"
   ]
  },
  {
   "cell_type": "code",
   "execution_count": 24,
   "metadata": {},
   "outputs": [],
   "source": [
    "all_red = essay_raw.find_elements(By.TAG_NAME, \"span\")\n",
    "clean = remove_comments(all_red)"
   ]
  },
  {
   "cell_type": "code",
   "execution_count": null,
   "metadata": {},
   "outputs": [],
   "source": [
    "def clean_essay(essay_raw: str):\n",
    "    return re.sub(\"\\(.*\\)\", \"\", essay_raw)"
   ]
  },
  {
   "cell_type": "code",
   "execution_count": 33,
   "metadata": {},
   "outputs": [],
   "source": [
    "essay_clean = re.sub(\"\\(.*?\\)\", \"\", essay_raw.text)\n"
   ]
  },
  {
   "cell_type": "code",
   "execution_count": 36,
   "metadata": {},
   "outputs": [
    {
     "data": {
      "text/plain": [
       "'Segundo, a Constituição Federal de 1988, Art 27 é dever da família, da sociedade, assegurar os direitos básicos da criança e do adolescente, como à saúde, à segurança. No entanto, as obrigações mencionadas na Carta Magna não são colocadas em prática, visto que há o descaso familiar em controlar o tempo de uso de aparelhos tecnológicos usados pela criança. Assim, é necessário discutir o problema do aumento da ansiedade infantil por causa da tecnologia e suas possíveis causas como a omissão da família e a influência das redes sociais. Diante desse cenário, um dos fatores desse impasse é a negligência familiar em gerenciar o tempo de exposição da criança a tecnologia. Nesse sentido, o Dr. Drauzio Varella afirma que o excesso de contato com aparelhos tecnológicos prejudica o sono dos meninos, que é muito importante para o seu desenvolvimento. Dessa forma, os responsáveis devem estabelecer um limite para acessar esses dispositivos, uma vez que esses mecanismos podem impactar o funcionamento do organismo da criança causando alterações no sono. Por conseguinte, devido a essa perturbação pode provocar o aparecimento da ansiedade e estresse. Além disso, outra causa é a influência das redes sociais no desenvolvimento mental infantil. Nessa perspectiva, a Organização Mundial da Saúde realizou uma pesquisa em relação a saúde mental que definiu que o número de crianças com ansiedade duplicou em comparação com a última década. Desse modo, esse crescimento deve-se ao acesso desse grupo às redes sociais, nota-se que essas faixa etária disputam por atenção nessas plataformas, e são influenciadas a agir na velocidade das tendências . Por conta disso, quando não conseguem acompanhar os conteúdos acabam ficando ansiosos. Portanto, é evidente os impactos da tecnologia na saúde mental da parcela infantil. Para isso, a família- responsável pela formação do indivíduo- deve gerenciar o tempo de uso da tecnologia, por meio de regras, a fim de garantir a saúde mental dos mais novos. Além do mais, o Governo deve fiscalizar a mídia, a fim de diminuir o excesso de exposição de conteúdos ao grupo infantil. Enfim, assim será possível cumprir com os princípios constitucionais. '"
      ]
     },
     "execution_count": 36,
     "metadata": {},
     "output_type": "execute_result"
    }
   ],
   "source": []
  },
  {
   "cell_type": "code",
   "execution_count": 30,
   "metadata": {},
   "outputs": [
    {
     "data": {
      "text/plain": [
       "'Segundo, (Sem vírgula) a Constituição Federal de 1988, Art 27 é dever da família, da sociedade, assegurar os direitos básicos da criança e do adolescente, como à saúde, à segurança. No entanto, as obrigações mencionadas na Carta Magna não são colocadas em prática, visto que há o descaso familiar em controlar o tempo de uso de aparelhos tecnológicos usados pela criança. Assim, é necessário discutir o problema do aumento da ansiedade infantil por causa da tecnologia e suas possíveis causas (Vírgula) como a omissão da família e a influência das redes sociais. (Muito bem. Formulou a tese)\\n\\nDiante desse cenário, um dos fatores desse impasse é a negligência familiar em gerenciar o tempo de exposição da criança a tecnologia. Nesse sentido, o Dr. Drauzio Varella afirma que o excesso de contato com aparelhos tecnológicos prejudica o sono dos meninos, que é muito importante para o seu desenvolvimento. Dessa forma, os responsáveis devem estabelecer um limite para acessar esses dispositivos, uma vez que esses mecanismos podem impactar o funcionamento do organismo da criança causando alterações no sono. Por conseguinte, devido a essa perturbação pode provocar o aparecimento da ansiedade e estresse. (Melhore a apresentação da discussão)\\n\\n(Boa estratégia coesiva) Além disso, outra causa é a influência das redes sociais no desenvolvimento mental infantil. Nessa perspectiva, a Organização Mundial da Saúde realizou uma pesquisa em relação a saúde mental que definiu que o número de crianças com ansiedade duplicou em comparação com a última década. Desse modo, esse crescimento deve-se ao acesso desse grupo às redes sociais, nota-se que essas faixa etária disputam por atenção nessas plataformas, e são influenciadas a agir na velocidade das tendências (Melhore a construção dessa ideia). Por conta disso, quando não conseguem acompanhar os conteúdos (Vírgula) acabam ficando ansiosos.\\n\\n(Boa estratégia coesiva) Portanto, é evidente os impactos da tecnologia na saúde mental da parcela infantil. Para isso, a família- responsável pela formação do indivíduo- deve gerenciar o tempo de uso da tecnologia, por meio de regras, a fim de garantir a saúde mental dos mais novos. Além do mais, o Governo deve fiscalizar a mídia, a fim de diminuir o excesso de exposição de conteúdos ao grupo infantil. Enfim, assim será possível cumprir com os princípios constitucionais. (Proposta completa)'"
      ]
     },
     "execution_count": 30,
     "metadata": {},
     "output_type": "execute_result"
    }
   ],
   "source": [
    "essay_raw.text"
   ]
  },
  {
   "cell_type": "code",
   "execution_count": null,
   "metadata": {},
   "outputs": [],
   "source": []
  }
 ],
 "metadata": {
  "kernelspec": {
   "display_name": "Python 3 (ipykernel)",
   "language": "python",
   "name": "python3"
  },
  "language_info": {
   "codemirror_mode": {
    "name": "ipython",
    "version": 3
   },
   "file_extension": ".py",
   "mimetype": "text/x-python",
   "name": "python",
   "nbconvert_exporter": "python",
   "pygments_lexer": "ipython3",
   "version": "3.10.14"
  }
 },
 "nbformat": 4,
 "nbformat_minor": 2
}
