{
 "cells": [
  {
   "cell_type": "code",
   "execution_count": 2,
   "metadata": {},
   "outputs": [],
   "source": [
    "from selenium import webdriver\n",
    "from selenium.webdriver.common.by import By\n",
    "from selenium.webdriver.support import expected_conditions as EC\n",
    "from bs4 import BeautifulSoup\n",
    "import pandas as pd\n",
    "from time import sleep\n",
    "\n",
    "driver = webdriver.Chrome()\n",
    "driver.get('https://vestibular.brasilescola.uol.com.br/banco-de-redacoes')\n",
    "\n",
    "# Get the essay theme table\n",
    "theme_table = driver.find_element(By.ID, 'table-temas')"
   ]
  },
  {
   "cell_type": "code",
   "execution_count": 3,
   "metadata": {},
   "outputs": [],
   "source": [
    "table_rows = theme_table.find_elements(By.TAG_NAME, 'tr')[1:]\n",
    "\n",
    "themes = []\n",
    "for row in table_rows:\n",
    "    a_element = row.find_elements(By.TAG_NAME, 'td')[0].find_element(By.TAG_NAME, 'a')\n",
    "    link = a_element.get_property('href')\n",
    "    theme = a_element.text\n",
    "    date = row.find_elements(By.TAG_NAME, 'td')[1].text\n",
    "    month = date.split('/')[0]\n",
    "    year = date.split('/')[1]\n",
    "    themes.append([theme, link, month, year])\n",
    "\n",
    "df = pd.DataFrame(themes, columns=['Theme', 'Link', 'Month', 'Year'])\n",
    "df.to_csv('data/links.csv', index=False)"
   ]
  },
  {
   "cell_type": "code",
   "execution_count": 8,
   "metadata": {},
   "outputs": [],
   "source": [
    "links = [df['Link'][0]]\n",
    "for link in links:\n",
    "    driver.get(link)\n",
    "    theme_paragraph = driver.find_element(By.CLASS_NAME, 'texto-conteudo').find_element(By.TAG_NAME, 'p').text\n",
    "    table_corrected = driver.find_element(By.ID, 'redacoes_corrigidas')\n",
    "    essays_corrected = table_corrected.find_elements(By.TAG_NAME, 'tr')[1:]\n",
    "    essays_links = []\n",
    "    for essay, n in zip(essays_corrected, range(len(essays_corrected))):\n",
    "        a_element = essay.find_elements(By.TAG_NAME, 'td')[0].find_element(By.TAG_NAME, 'a')\n",
    "        link = a_element.get_property('href')\n",
    "        number = n\n",
    "        essays_links.append([theme_paragraph, n, link])\n",
    "    theme_hash = hash(link)\n",
    "    df_theme = pd.DataFrame(essays_links, columns=['Proposition', 'Id', 'Link'])\n",
    "    df_theme.to_csv(f'data/{theme_hash}.csv', index=False)"
   ]
  }
 ],
 "metadata": {
  "kernelspec": {
   "display_name": "Python 3",
   "language": "python",
   "name": "python3"
  },
  "language_info": {
   "codemirror_mode": {
    "name": "ipython",
    "version": 3
   },
   "file_extension": ".py",
   "mimetype": "text/x-python",
   "name": "python",
   "nbconvert_exporter": "python",
   "pygments_lexer": "ipython3",
   "version": "3.10.14"
  }
 },
 "nbformat": 4,
 "nbformat_minor": 2
}
